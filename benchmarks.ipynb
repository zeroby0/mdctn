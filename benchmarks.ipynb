{
 "cells": [
  {
   "cell_type": "code",
   "execution_count": 1,
   "metadata": {},
   "outputs": [],
   "source": [
    "import numpy as np\n",
    "\n",
    "import mdctn"
   ]
  },
  {
   "cell_type": "markdown",
   "metadata": {},
   "source": [
    "#### MDCT4 by smagt\n",
    "\n",
    "Just using this for comparision. These functions were incredibly useful for validating my mdct works. Thanks smagt!\n",
    "\n",
    "https://github.com/smagt/mdct"
   ]
  },
  {
   "cell_type": "code",
   "execution_count": 2,
   "metadata": {},
   "outputs": [],
   "source": [
    "#mdct4 by smagt: https://github.com/smagt/mdct\n",
    "def mdct4(x):\n",
    "    N = x.shape[0]\n",
    "    if N%4 != 0:\n",
    "        raise ValueError(\"MDCT4 only defined for vectors of length multiple of four.\")\n",
    "    M = N // 2\n",
    "    N4 = N // 4\n",
    "    \n",
    "    rot = np.roll(x, N4)\n",
    "    rot[:N4] = -rot[:N4]\n",
    "    t = np.arange(0, N4)\n",
    "    w = np.exp(-1j*2*np.pi*(t + 1./8.) / N)\n",
    "    c = np.take(rot,2*t) - np.take(rot, N-2*t-1) \\\n",
    "        - 1j * (np.take(rot, M+2*t) - np.take(rot,M-2*t-1))\n",
    "    c = (2./np.sqrt(N)) * w * np.fft.fft(0.5 * c * w, N4)\n",
    "    y = np.zeros(M)\n",
    "    y[2*t] = np.real(c[t])\n",
    "    y[M-2*t-1] = -np.imag(c[t])\n",
    "    return y\n",
    "\n",
    "\n",
    "def imdct4(x):\n",
    "    N = x.shape[0]\n",
    "    if N%2 != 0:\n",
    "        raise ValueError(\"iMDCT4 only defined for even-length vectors.\")\n",
    "    M = N // 2\n",
    "    N2 = N*2\n",
    "    \n",
    "    t = np.arange(0,M)\n",
    "    w = np.exp(-1j*2*np.pi*(t + 1./8.) / N2)\n",
    "    c = np.take(x,2*t) + 1j * np.take(x,N-2*t-1)\n",
    "    c = 0.5 * w * c\n",
    "    c = np.fft.fft(c,M)\n",
    "    c = ((8 / np.sqrt(N2))*w)*c\n",
    "    \n",
    "    rot = np.zeros(N2)\n",
    "    \n",
    "    rot[2*t] = np.real(c[t])\n",
    "    rot[N+2*t] = np.imag(c[t])\n",
    "    \n",
    "    t = np.arange(1,N2,2)\n",
    "    rot[t] = -rot[N2-t-1]\n",
    "    \n",
    "    t = np.arange(0,3*M)\n",
    "    y = np.zeros(N2)\n",
    "    y[t] = rot[t+M]\n",
    "    t = np.arange(3*M,N2)\n",
    "    y[t] = -rot[t-3*M]\n",
    "    return y"
   ]
  },
  {
   "cell_type": "markdown",
   "metadata": {},
   "source": [
    "### For small lengths\n",
    "\n",
    "Comparision of MDCT over 16 samples"
   ]
  },
  {
   "cell_type": "code",
   "execution_count": 3,
   "metadata": {},
   "outputs": [
    {
     "name": "stdout",
     "output_type": "stream",
     "text": [
      "MDCT: 16 samples.\n",
      "16 µs ± 226 ns per loop (mean ± std. dev. of 7 runs, 100,000 loops each)\n",
      "54.2 µs ± 213 ns per loop (mean ± std. dev. of 7 runs, 10,000 loops each)\n",
      "IMDCT: 16 samples.\n",
      "11.9 µs ± 182 ns per loop (mean ± std. dev. of 7 runs, 100,000 loops each)\n",
      "37.8 µs ± 1.27 µs per loop (mean ± std. dev. of 7 runs, 10,000 loops each)\n"
     ]
    }
   ],
   "source": [
    "nsamples = 16\n",
    "print(f\"MDCT: {nsamples} samples.\")\n",
    "x = np.arange(nsamples)\n",
    "%timeit mdctn.mdct(x, dct_type=4, norm='ortho')\n",
    "%timeit mdct4(x)\n",
    "\n",
    "print(f\"IMDCT: {nsamples} samples.\")\n",
    "y = mdctn.mdct(x)\n",
    "%timeit mdctn.imdct(y, dct_type=4, norm='ortho')\n",
    "%timeit imdct4(y)"
   ]
  },
  {
   "cell_type": "markdown",
   "metadata": {},
   "source": [
    "### Medium\n",
    "\n",
    "Comparision of MDCT over 1200 samples"
   ]
  },
  {
   "cell_type": "code",
   "execution_count": 4,
   "metadata": {},
   "outputs": [
    {
     "name": "stdout",
     "output_type": "stream",
     "text": [
      "MDCT: 1200 samples.\n",
      "25.7 µs ± 694 ns per loop (mean ± std. dev. of 7 runs, 10,000 loops each)\n",
      "79.9 µs ± 1.06 µs per loop (mean ± std. dev. of 7 runs, 10,000 loops each)\n",
      "IMDCT: 1200 samples.\n",
      "16.6 µs ± 77.2 ns per loop (mean ± std. dev. of 7 runs, 100,000 loops each)\n",
      "64.9 µs ± 223 ns per loop (mean ± std. dev. of 7 runs, 10,000 loops each)\n"
     ]
    }
   ],
   "source": [
    "nsamples = 1200\n",
    "print(f\"MDCT: {nsamples} samples.\")\n",
    "x = np.arange(nsamples)\n",
    "%timeit mdctn.mdct(x, dct_type=4, norm='ortho')\n",
    "%timeit mdct4(x)\n",
    "\n",
    "print(f\"IMDCT: {nsamples} samples.\")\n",
    "y = mdctn.mdct(x)\n",
    "%timeit mdctn.imdct(y, dct_type=4, norm='ortho')\n",
    "%timeit imdct4(y)\n",
    "\n",
    "\n"
   ]
  },
  {
   "cell_type": "markdown",
   "metadata": {},
   "source": [
    "### Huge\n",
    "\n",
    "Comparision of MDCT over 24000 samples"
   ]
  },
  {
   "cell_type": "code",
   "execution_count": 5,
   "metadata": {},
   "outputs": [
    {
     "name": "stdout",
     "output_type": "stream",
     "text": [
      "MDCT: 24000 samples.\n",
      "106 µs ± 1.4 µs per loop (mean ± std. dev. of 7 runs, 10,000 loops each)\n",
      "450 µs ± 7.95 µs per loop (mean ± std. dev. of 7 runs, 1,000 loops each)\n",
      "IMDCT: 24000 samples.\n",
      "96.2 µs ± 114 ns per loop (mean ± std. dev. of 7 runs, 10,000 loops each)\n",
      "484 µs ± 2.79 µs per loop (mean ± std. dev. of 7 runs, 1,000 loops each)\n"
     ]
    }
   ],
   "source": [
    "nsamples = 24000\n",
    "print(f\"MDCT: {nsamples} samples.\")\n",
    "x = np.arange(nsamples)\n",
    "%timeit mdctn.mdct(x, dct_type=4, norm='ortho')\n",
    "%timeit mdct4(x)\n",
    "\n",
    "print(f\"IMDCT: {nsamples} samples.\")\n",
    "y = mdctn.mdct(x)\n",
    "%timeit mdctn.imdct(y, dct_type=4, norm='ortho')\n",
    "%timeit imdct4(y)"
   ]
  },
  {
   "cell_type": "code",
   "execution_count": null,
   "metadata": {},
   "outputs": [],
   "source": []
  }
 ],
 "metadata": {
  "kernelspec": {
   "display_name": "Python 3.10.8 ('kitchensink')",
   "language": "python",
   "name": "python3"
  },
  "language_info": {
   "codemirror_mode": {
    "name": "ipython",
    "version": 3
   },
   "file_extension": ".py",
   "mimetype": "text/x-python",
   "name": "python",
   "nbconvert_exporter": "python",
   "pygments_lexer": "ipython3",
   "version": "3.10.8"
  },
  "orig_nbformat": 4,
  "vscode": {
   "interpreter": {
    "hash": "819d2b5ed41cc2fe1270abeefe3e445ccd6d159a3be5412e6db9c2a5efad0c24"
   }
  }
 },
 "nbformat": 4,
 "nbformat_minor": 2
}
